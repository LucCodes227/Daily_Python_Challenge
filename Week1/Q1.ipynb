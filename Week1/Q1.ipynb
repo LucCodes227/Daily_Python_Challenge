{
 "cells": [
  {
   "cell_type": "markdown",
   "id": "9fdf077e",
   "metadata": {},
   "source": [
    "<style>\n",
    ":root { --accent:#8b5cf6; --muted:#9aa0a6; }\n",
    "h1.question { font-size: 2.1rem; color: var(--accent); margin: 0 0 .35rem 0; }\n",
    "p.subtitle { font-size: 1.05rem; color: var(--muted); margin: 0 0 1rem 0; }\n",
    "hr { border: none; border-top: 1px solid #333; margin: 1rem 0; }\n",
    "code, pre, pre code { background: transparent !important; border: none !important; }\n",
    "ul { margin-top: .4rem; }\n",
    "</style>\n",
    "\n",
    "<h1 class=\"question\">Morning Drill #1 — Counting Valid Usernames</h1>\n",
    "<p class=\"subtitle\">Very Basic For Loop · Scenario-based · Difficulty: Very Easy</p>\n",
    "<hr/>\n",
    "\n",
    "<p>\n",
    "You exported a raw list of usernames from a simple web form. Because some people pressed submit\n",
    "without typing anything, the list contains empty strings and entries made only of spaces, tabs, or newlines.\n",
    "Before you import this data elsewhere, you need the count of entries that are actually filled in.\n",
    "</p>\n",
    "\n",
    "<h3>Task</h3>\n",
    "<p><strong>Implement:</strong> <code>count_valid_usernames(names: list[str]) -&gt; int</code></p>\n",
    "\n",
    "<h3>Rules</h3>\n",
    "<ul>\n",
    "  <li>Use a plain <strong>for loop</strong> to iterate through <code>names</code>.</li>\n",
    "  <li>An entry is valid only if <code>name.strip()</code> is not the empty string.</li>\n",
    "  <li>Do not modify the input list. Return an <em>integer</em> count (do not print).</li>\n",
    "  <li>No list comprehensions or <code>sum()</code> tricks for this first drill—use the basic loop.</li>\n",
    "</ul>\n",
    "\n",
    "<h3>Exact Input for Auto-Marking</h3>\n",
    "<p>Use <em>exactly</em> this list when testing; your function must return the same value below:</p>\n",
    "<pre><code>EXACT_INPUT = [\"Ava\", \"  \", \"Kai\", \"\", \"  Mina  \", \"  \\t  \", \" 0 \", \"   \", \"Jo\", \"    \\n\"]</code></pre>\n",
    "\n",
    "<h3>Required Output</h3>\n",
    "<pre><code>Expected return value: 5</code></pre>\n"
   ]
  },
  {
   "cell_type": "code",
   "execution_count": null,
   "id": "d64cba6a",
   "metadata": {},
   "outputs": [],
   "source": [
    "# ---- USER STARTER ----\n",
    "from typing import List\n",
    "\n",
    "def main(names: List[str]) -> int:\n",
    "   \n",
    "\n",
    "\n",
    "   "
   ]
  },
  {
   "cell_type": "code",
   "execution_count": null,
   "id": "928846db",
   "metadata": {},
   "outputs": [],
   "source": [
    "# --- Local check (use EXACT input) ---\n",
    "\n",
    "EXACT_INPUT = [\"Ava\", \"  \", \"Kai\", \"\", \"  Mina  \", \"  \\t  \", \" 0 \", \"   \", \"Jo\", \"    \\n\"]\n",
    "EXPECTED = 5\n",
    "\n",
    "assert main(EXACT_INPUT) == EXPECTED, \"Count does not match the required output.\"\n",
    "print(\"OK — your function returns 5 for the exact input.\")\n"
   ]
  }
 ],
 "metadata": {
  "kernelspec": {
   "display_name": ".venv",
   "language": "python",
   "name": "python3"
  },
  "language_info": {
   "codemirror_mode": {
    "name": "ipython",
    "version": 3
   },
   "file_extension": ".py",
   "mimetype": "text/x-python",
   "name": "python",
   "nbconvert_exporter": "python",
   "pygments_lexer": "ipython3",
   "version": "3.13.2"
  }
 },
 "nbformat": 4,
 "nbformat_minor": 5
}
