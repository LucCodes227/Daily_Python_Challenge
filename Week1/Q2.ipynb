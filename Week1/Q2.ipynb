{
 "cells": [
  {
   "cell_type": "markdown",
   "id": "1d67cc75",
   "metadata": {},
   "source": [
    "<style>\n",
    ":root { --accent:#8b5cf6; --muted:#9aa0a6; }\n",
    "h1.question { font-size: 2.1rem; color: var(--accent); margin: 0 0 .35rem 0; }\n",
    "p.subtitle { font-size: 1.05rem; color: var(--muted); margin: 0 0 1rem 0; }\n",
    "hr { border: none; border-top: 1px solid #333; margin: 1rem 0; }\n",
    "code, pre, pre code { background: transparent !important; border: none !important; }\n",
    "ul { margin-top: .4rem; }\n",
    "</style>\n",
    "\n",
    "<h1 class=\"question\">Morning Drill #2 — Clean & Deduplicate Usernames</h1>\n",
    "<p class=\"subtitle\">Basic loops, strings, sets · Scenario-based · Difficulty: Easy</p>\n",
    "<hr/>\n",
    "\n",
    "<p>\n",
    "You exported a column of usernames from a simple form. The list contains duplicates with different\n",
    "capitalization and extra spaces. Before using it, produce a <em>clean, unique</em> list of usernames:\n",
    "trim surrounding whitespace, make everything lowercase, drop empty entries, and keep the\n",
    "<strong>first</strong> occurrence of each username (preserving order).\n",
    "</p>\n",
    "\n",
    "<h3>Task</h3>\n",
    "<p><strong>Implement:</strong> <code>main(names: list[str]) -&gt; list[str]</code></p>\n",
    "\n",
    "<h3>Rules</h3>\n",
    "<ul>\n",
    "  <li>Use a plain <strong>for loop</strong> to iterate through <code>names</code>.</li>\n",
    "  <li><code>cleaned = name.strip()</code>; ignore if <code>cleaned == \"\"</code>.</li>\n",
    "  <li><code>normalized = cleaned.lower()</code>.</li>\n",
    "  <li>Return a list of <em>normalized</em> usernames in the order of their <em>first appearance</em>.</li>\n",
    "  <li>Tip: track seen usernames with a <code>set()</code>.</li>\n",
    "  <li>Do not print; just return the list.</li>\n",
    "</ul>\n",
    "\n",
    "<h3>Exact Input for Auto-Marking</h3>\n",
    "<pre><code>EXACT_INPUT = [\" Ava \", \"ava\", \"  Ben\", \"BEN  \", \"   \", \"Jo\", \"jo  \", \"\\tMina\", \"MiNa\", \"Kai\", \"kai \", \"  \", \"AVA\"]</code></pre>\n",
    "\n",
    "<h3>Required Output</h3>\n",
    "<pre><code>Expected return value: [\"ava\", \"ben\", \"jo\", \"mina\", \"kai\"]</code></pre>\n"
   ]
  },
  {
   "cell_type": "code",
   "execution_count": null,
   "id": "7381eae6",
   "metadata": {},
   "outputs": [],
   "source": [
    "# --- USER STARTER (implement only inside main) ---\n",
    "\n",
    "from typing import List\n",
    "\n",
    "def main(names: List[str]) -> List[str]:\n",
    "    "
   ]
  },
  {
   "cell_type": "code",
   "execution_count": null,
   "id": "8befb30d",
   "metadata": {},
   "outputs": [],
   "source": [
    "# --- Local check (use EXACT input) ---\n",
    "\n",
    "EXACT_INPUT = [\" Ava \", \"ava\", \"  Ben\", \"BEN  \", \"   \", \"Jo\", \"jo  \", \"\\tMina\", \"MiNa\", \"Kai\", \"kai \", \"  \", \"AVA\"]\n",
    "EXPECTED = [\"ava\", \"ben\", \"jo\", \"mina\", \"kai\"]\n",
    "\n",
    "assert main(EXACT_INPUT) == EXPECTED, \"Output does not match the required list.\"\n",
    "print(\"OK — your function returns the expected cleaned, unique list.\")\n"
   ]
  }
 ],
 "metadata": {
  "language_info": {
   "name": "python"
  }
 },
 "nbformat": 4,
 "nbformat_minor": 5
}
